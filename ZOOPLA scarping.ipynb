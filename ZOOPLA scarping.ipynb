{
 "cells": [
  {
   "cell_type": "code",
   "execution_count": 1,
   "metadata": {},
   "outputs": [],
   "source": [
    "import pandas as pd\n",
    "import numpy as np\n",
    "import matplotlib.pyplot as plt\n",
    "import seaborn as sns\n",
    "%matplotlib inline\n",
    "import bs4\n",
    "from urllib.request import urlopen\n",
    "from bs4 import BeautifulSoup\n",
    "\n",
    "from time import sleep\n",
    "from selenium import webdriver\n",
    "from selenium.webdriver.common.keys import Keys\n",
    "import xlrd \n",
    "\n",
    "\n",
    "driver = webdriver.Chrome(r'E:\\chromedriver_win32\\\\chromedriver')\n",
    "driver.get('https://www.zoopla.co.uk/find-agents/estate-agents/aldersbrook/')\n",
    "\n",
    "sleep(10)"
   ]
  },
  {
   "cell_type": "code",
   "execution_count": 2,
   "metadata": {},
   "outputs": [],
   "source": [
    "# EXTRACT LST\n",
    "\n",
    "AgentName=[]\n",
    "CompanyName=[]\n",
    "AgentPhoneNo=[]\n",
    "AgentEmailID=[]\n",
    "AgentAddress=[]\n",
    "City=[]\n",
    "country=[]\n",
    "comapnyweblink=[]\n"
   ]
  },
  {
   "cell_type": "code",
   "execution_count": 3,
   "metadata": {},
   "outputs": [
    {
     "name": "stdout",
     "output_type": "stream",
     "text": [
      "<address class=\"fap-agent-card__address\">658 High Road, Leytonstone, London, E11 3AA</address>\n",
      "<address class=\"fap-agent-card__address\">34 Station Road, London, E12 5BT</address>\n",
      "<address class=\"fap-agent-card__address\">826 Romford Road, London, E12 5JG</address>\n",
      "<address class=\"fap-agent-card__address\">642 High Road Leytonstone, London, E11 3AA</address>\n",
      "<address class=\"fap-agent-card__address\">742 High road, London, E11 3AW</address>\n",
      "<address class=\"fap-agent-card__address\">619 Romford Road, London, E12 5AD</address>\n"
     ]
    }
   ],
   "source": [
    "page_source = driver.page_source\n",
    "#print(page_source)\n",
    "soup = BeautifulSoup(page_source, 'lxml')\n",
    "#print(soup2)\n",
    "type(soup)\n",
    "bs4.BeautifulSoup\n",
    "title = soup.title\n",
    "\n",
    "\n",
    "\n",
    "#Comapny Address\n",
    "\n",
    "\n",
    "\n",
    "\n",
    "#<address class=\"fap-agent-card__address\">658 High Road, Leytonstone, London, E11 3AA</address\n",
    "\n",
    "\n",
    "address_tag=soup.find_all(\"address\", {\"class\": \"fap-agent-card__address\"})\n",
    "for i in address_tag:\n",
    "    AgentAddress.append(i.text)\n",
    "    print(i.text)\n",
    "    \n",
    "    \n",
    "\n",
    "\n"
   ]
  }
 ],
 "metadata": {
  "kernelspec": {
   "display_name": "Python 3",
   "language": "python",
   "name": "python3"
  },
  "language_info": {
   "codemirror_mode": {
    "name": "ipython",
    "version": 3
   },
   "file_extension": ".py",
   "mimetype": "text/x-python",
   "name": "python",
   "nbconvert_exporter": "python",
   "pygments_lexer": "ipython3",
   "version": "3.7.4"
  }
 },
 "nbformat": 4,
 "nbformat_minor": 2
}
